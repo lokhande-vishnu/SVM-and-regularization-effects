{
 "cells": [
  {
   "cell_type": "raw",
   "metadata": {
    "collapsed": true
   },
   "source": [
    "read the csv file\n",
    "learn about how to do text classification\n",
    "perform the text classifications\n",
    "[seems to handle pre-processing, if not\n",
    "    - remove the first couple of words\n",
    "    -  replace new line with space] pre-processing handled by counts\n"
   ]
  },
  {
   "cell_type": "code",
   "execution_count": 4,
   "metadata": {
    "collapsed": false
   },
   "outputs": [
    {
     "name": "stdout",
     "output_type": "stream",
     "text": [
      "  Key                                    Stream  Line_number  \\\n",
      "0   0  FOX.1488548520.002Z-1488548580.002Z.ts\\n            1   \n",
      "1   1  FOX.1488548520.002Z-1488548580.002Z.ts\\n            2   \n",
      "2   2  FOX.1488548520.002Z-1488548580.002Z.ts\\n            3   \n",
      "3   3  FOX.1488548520.002Z-1488548580.002Z.ts\\n            4   \n",
      "4   4  FOX.1488548520.002Z-1488548580.002Z.ts\\n            5   \n",
      "\n",
      "                        Time_stamp  \\\n",
      "0  00:00:20,871 --> 00:00:22,406\\n   \n",
      "1  00:00:22,406 --> 00:00:26,043\\n   \n",
      "2  00:00:26,043 --> 00:00:27,444\\n   \n",
      "3  00:00:27,444 --> 00:00:29,046\\n   \n",
      "4  00:00:29,046 --> 00:00:32,950\\n   \n",
      "\n",
      "                                                Text  Label  \n",
      "0  <font face=\"Monospace\">{\\an7}>> THIS IS NOT SO...      0  \n",
      "1  <font face=\"Monospace\">{\\an7}>> THIS IS NOT SO...      0  \n",
      "2  <font face=\"Monospace\">{\\an7}PEOPLE WAIT, 36 H...      0  \n",
      "3  <font face=\"Monospace\">{\\an7}HOT NEXT THING.\\n...      0  \n",
      "4  <font face=\"Monospace\">{\\an7}>> IT’S COOL BY A...      0  \n"
     ]
    }
   ],
   "source": [
    "import numpy as np\n",
    "import pandas as pd\n",
    "from sklearn.feature_extraction.text import CountVectorizer\n",
    "from sklearn.feature_extraction.text import TfidfTransformer\n",
    "from sklearn.naive_bayes import MultinomialNB\n",
    "from sklearn import metrics\n",
    "from sklearn.model_selection import cross_val_score\n",
    "\n",
    "data =  pd.read_csv('test.csv')\n",
    "data.replace(np.nan,0)\n",
    "print(data.head(5))"
   ]
  },
  {
   "cell_type": "code",
   "execution_count": 7,
   "metadata": {
    "collapsed": false
   },
   "outputs": [
    {
     "name": "stdout",
     "output_type": "stream",
     "text": [
      "(3618, 2528)\n",
      "(3618, 2528)\n",
      "(3618,)\n"
     ]
    }
   ],
   "source": [
    "# Text to vectors\n",
    "vectorizer = CountVectorizer()\n",
    "X_vectors = vectorizer.fit_transform(data.Text)\n",
    "print(X_vectors.shape)\n",
    "\n",
    "# vectors to tfidf scores\n",
    "tfidf_transformer = TfidfTransformer()\n",
    "X = tfidf_transformer.fit_transform(X_vectors)\n",
    "print(X.shape)\n",
    "\n",
    "# Labels\n",
    "y =  data.Label\n",
    "print(y.shape)"
   ]
  },
  {
   "cell_type": "code",
   "execution_count": 159,
   "metadata": {
    "collapsed": false
   },
   "outputs": [
    {
     "name": "stdout",
     "output_type": "stream",
     "text": [
      "             precision    recall  f1-score   support\n",
      "\n",
      "        0.0       0.00      0.00      0.00         7\n",
      "        1.0       0.82      1.00      0.90        33\n",
      "\n",
      "avg / total       0.68      0.82      0.75        40\n",
      "\n",
      "[[ 0  7]\n",
      " [ 0 33]]\n",
      "[array([ 0.78571429,  0.84615385,  0.84615385])] [array([ 0.78571429,  0.84615385,  0.84615385])]\n"
     ]
    },
    {
     "name": "stderr",
     "output_type": "stream",
     "text": [
      "/u/l/o/lokhande/.local/lib/python3.4/site-packages/sklearn/metrics/classification.py:1113: UndefinedMetricWarning: Precision and F-score are ill-defined and being set to 0.0 in labels with no predicted samples.\n",
      "  'precision', 'predicted', average, warn_for)\n"
     ]
    }
   ],
   "source": [
    "# Train test split \n",
    "\n",
    "# Training accuracy\n",
    "clf1 = MultinomialNB()\n",
    "clf1_trained = clf1.fit(X, y)\n",
    "y_pred = clf1_trained.predict(X)\n",
    "print(metrics.classification_report(y, y_pred))\n",
    "print(metrics.confusion_matrix(y, y_pred))\n",
    "\n",
    "\n",
    "\n",
    "scores = list()\n",
    "scores_std = list()\n",
    "\n",
    "n_folds = 3\n",
    "\n",
    "this_scores = cross_val_score(clf1, X, y, cv=n_folds, n_jobs=1)\n",
    "scores.append(this_scores)\n",
    "scores_std.append(this_scores)\n",
    "\n",
    "#scores, scores_std = np.mean(scores), np.mean(scores_std)\n",
    "print(scores,scores_std)\n",
    "\n",
    "\n",
    "#print(X[0:10,:])   \n",
    "# print(y[0:10])\n",
    "# print(type(y))\n",
    "# Cross validation"
   ]
  },
  {
   "cell_type": "code",
   "execution_count": 115,
   "metadata": {
    "collapsed": false
   },
   "outputs": [
    {
     "name": "stdout",
     "output_type": "stream",
     "text": [
      "['font', 'face', 'monospace', 'n7', 'hot', 'next', 'thing', 'it', 'cool', 'by', 'almost', 'all', 'font']\n",
      "846\n"
     ]
    }
   ],
   "source": [
    "vectorizer = CountVectorizer()\n",
    "text_counts = vectorizer.fit_transform(data.Text)\n",
    "analyze = vectorizer.build_analyzer()\n",
    "print(analyze(\"<font face= \"\"Monospace\"\" >{\\an7}HOT NEXT THING.>> IT’S COOL BY ALMOST ALL</font>\") )\n",
    "# print(sum(p==3))\n",
    "# print(text_counts.shape)\n",
    "# print(text_counts)\n",
    "# print(data.Text)\n",
    "print(vectorizer.vocabulary_.get('font'))"
   ]
  },
  {
   "cell_type": "code",
   "execution_count": 116,
   "metadata": {
    "collapsed": false
   },
   "outputs": [
    {
     "name": "stdout",
     "output_type": "stream",
     "text": [
      "2\n"
     ]
    }
   ],
   "source": [
    "x = vectorizer.get_feature_names()\n",
    "#print(type(x),x)\n",
    "f = vectorizer.transform(['<font face=\"Monospace\">{\\an7}HOT NEXT THING.\\n>> IT’S COOL BY ALMOST ALL</font>\\n']).toarray()\n",
    "print(f[0][846])"
   ]
  },
  {
   "cell_type": "code",
   "execution_count": 43,
   "metadata": {
    "collapsed": false
   },
   "outputs": [
    {
     "name": "stdout",
     "output_type": "stream",
     "text": [
      "0       <font face=\"Monospace\">{\\an7}>> THIS IS NOT SO...\n",
      "1       <font face=\"Monospace\">{\\an7}>> THIS IS NOT SO...\n",
      "2       <font face=\"Monospace\">{\\an7}PEOPLE WAIT, 36 H...\n",
      "3       <font face=\"Monospace\">{\\an7}HOT NEXT THING.\\n...\n",
      "4       <font face=\"Monospace\">{\\an7}>> IT’S COOL BY A...\n",
      "5       <font face=\"Monospace\">{\\an7}ACCOUNTS, AND THE...\n",
      "6       <font face=\"Monospace\">{\\an7}HIGH.\\nLET’S GO T...\n",
      "7       <font face=\"Monospace\">{\\an7}LET’S GO TO ANTWA...\n",
      "8       <font face=\"Monospace\">{\\an7}THESE ARE AVAILAB...\n",
      "9       <font face=\"Monospace\">{\\an7}AND PEOPLE ARE ST...\n",
      "10      <font face=\"Monospace\">{\\an7}>> OH, YEAH, TAKE...\n",
      "11      <font face=\"Monospace\">{\\an7}LINE, SHOWING THE...\n",
      "12      <font face=\"Monospace\">{\\an7}PEOPLE WHO WERE O...\n",
      "13      <font face=\"Monospace\">{\\an7}THE ANYONE NINTEN...\n",
      "14      <font face=\"Monospace\">{\\an7}IN A HALF-HOUR, S...\n",
      "15      <font face=\"Monospace\">{\\an7}FOR THEIR HANDS T...\n",
      "16      <font face=\"Monospace\">{\\an7}MIDNIGHT.</font>\\n\\n\n",
      "17      <font face=\"Monospace\">{\\an7}AS TERESA PRIOLO ...\n",
      "18      <font face=\"Monospace\">{\\an7}AS TERESA PRIOLO ...\n",
      "19      <font face=\"Monospace\">{\\an7}SOME PEOPLE HAVE ...\n",
      "20      <font face=\"Monospace\">{\\an7}FOR DAYS.\\n>> TO ...\n",
      "21      <font face=\"Monospace\">{\\an7}>> TO TELL YOU MO...\n",
      "22      <font face=\"Monospace\">{\\an7}DEVICE, THE SWITC...\n",
      "23      <font face=\"Monospace\">{\\an7}PLAY AT HOME, ON ...\n",
      "24      <font face=\"Monospace\">{\\an7}IT ALSO PROMISES ...\n",
      "25      <font face=\"Monospace\">{\\an7}FACE-TO-FACE INTE...\n",
      "26      <font face=\"Monospace\">{\\an7}GAMERS, BUT THIS ...\n",
      "27      <font face=\"Monospace\">{\\an7}TO LET THEM INTER...\n",
      "28      <font face=\"Monospace\">{\\an7}FACE-TO-FACE, BEC...\n",
      "29      <font face=\"Monospace\">{\\an7}OF THE GAMES, YOU...\n",
      "                              ...                        \n",
      "3588    <font face=\"Monospace\">{\\an7}SLACKING.\\nTHERE’...\n",
      "3589    <font face=\"Monospace\">{\\an7}LADY DOCTOR DIED....\n",
      "3590    <font face=\"Monospace\">{\\an7}\\hLADY DOCTOR DIE...\n",
      "3591    <font face=\"Monospace\">{\\an7}THAT WAS A SECRET...\n",
      "3592    <font face=\"Monospace\">{\\an7}>> TAKE HER TO MY...\n",
      "3593    <font face=\"Monospace\">{\\an7}HE IS SO HOT.\\nTH...\n",
      "3594    <font face=\"Monospace\">{\\an7}THERE’S NOTHING L...\n",
      "3595    <font face=\"Monospace\">{\\an7}MECHANIC WORKING ...\n",
      "3596    <font face=\"Monospace\">{\\an7}>> WE’LL BE RIGHT...\n",
      "3597    <font face=\"Monospace\">{\\an7}MELISSA PETERMAN ...\n",
      "3598    <font face=\"Monospace\">{\\an7}>>> ARE YOU MARRI...\n",
      "3599    <font face=\"Monospace\">{\\an7}>>> ARE YOU MARRI...\n",
      "3600    <font face=\"Monospace\">{\\an7}GRANDPA OR IS THA...\n",
      "3601    <font face=\"Monospace\">{\\an7}WHAT SIZE SHOES D...\n",
      "3602    <font face=\"Monospace\">{\\an7}HOW MANY MONEY TO...\n",
      "3603    <font face=\"Monospace\">{\\an7}<i>Packed with fl...\n",
      "3604    <font face=\"Monospace\">{\\an7}<i>one hero was o...\n",
      "3605    <font face=\"Monospace\">{\\an7}\\h\\h<i>\\hWatch Ba...\n",
      "3606    <font face=\"Monospace\">{\\an7}You want a piece ...\n",
      "3607    <font face=\"Monospace\">{\\an7}<i>\\hCreamy, deli...\n",
      "3608    <font face=\"Monospace\">{\\an7}\\h\\h\\h\\h<i>\\hMini...\n",
      "3609    <font face=\"Monospace\">{\\an7}<i>Fios is not ca...\n",
      "3610    <font face=\"Monospace\">{\\an7}<i>Maybe that‘s w...\n",
      "3611    <font face=\"Monospace\">{\\an7}<i>by JD Power 4 ...\n",
      "3612    <font face=\"Monospace\">{\\an7}<i>And now you ca...\n",
      "3613    <font face=\"Monospace\">{\\an7}<i>Get our best o...\n",
      "3614    <font face=\"Monospace\">{\\an7}<i>150 meg intern...\n",
      "3615    <font face=\"Monospace\">{\\an7}<i>All for $79.99...\n",
      "3616    <font face=\"Monospace\">{\\an7}<i>Plus get HBO f...\n",
      "3617    <font face=\"Monospace\">{\\an7}<i>Go to getfios....\n",
      "Name: Text, dtype: object\n"
     ]
    }
   ],
   "source": [
    "print(data.Text)"
   ]
  }
 ],
 "metadata": {
  "kernelspec": {
   "display_name": "Python 3",
   "language": "python",
   "name": "python3"
  },
  "language_info": {
   "codemirror_mode": {
    "name": "ipython",
    "version": 3
   },
   "file_extension": ".py",
   "mimetype": "text/x-python",
   "name": "python",
   "nbconvert_exporter": "python",
   "pygments_lexer": "ipython3",
   "version": "3.6.0"
  }
 },
 "nbformat": 4,
 "nbformat_minor": 1
}
