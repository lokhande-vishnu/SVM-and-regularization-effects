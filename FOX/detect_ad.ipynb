{
 "cells": [
  {
   "cell_type": "raw",
   "metadata": {
    "collapsed": true
   },
   "source": [
    "read the csv file\n",
    "learn about how to do text classification\n",
    "perform the text classifications\n",
    "[seems to handle pre-processing, if not\n",
    "    - remove the first couple of words\n",
    "    -  replace new line with space] pre-processing handled by counts\n"
   ]
  },
  {
   "cell_type": "code",
   "execution_count": 1,
   "metadata": {
    "collapsed": false
   },
   "outputs": [
    {
     "ename": "CParserError",
     "evalue": "Error tokenizing data. C error: Expected 1 fields in line 4, saw 2\n",
     "output_type": "error",
     "traceback": [
      "\u001b[0;31m---------------------------------------------------------------------------\u001b[0m",
      "\u001b[0;31mCParserError\u001b[0m                              Traceback (most recent call last)",
      "\u001b[0;32m<ipython-input-1-72bff4d14f52>\u001b[0m in \u001b[0;36m<module>\u001b[0;34m()\u001b[0m\n\u001b[1;32m      7\u001b[0m \u001b[0;32mfrom\u001b[0m \u001b[0msklearn\u001b[0m\u001b[0;34m.\u001b[0m\u001b[0mmodel_selection\u001b[0m \u001b[0;32mimport\u001b[0m \u001b[0mcross_val_score\u001b[0m\u001b[0;34m\u001b[0m\u001b[0m\n\u001b[1;32m      8\u001b[0m \u001b[0;34m\u001b[0m\u001b[0m\n\u001b[0;32m----> 9\u001b[0;31m \u001b[0mdata\u001b[0m \u001b[0;34m=\u001b[0m  \u001b[0mpd\u001b[0m\u001b[0;34m.\u001b[0m\u001b[0mread_csv\u001b[0m\u001b[0;34m(\u001b[0m\u001b[0;34m'ParsedOutput_odf.ods'\u001b[0m\u001b[0;34m)\u001b[0m\u001b[0;34m\u001b[0m\u001b[0m\n\u001b[0m\u001b[1;32m     10\u001b[0m \u001b[0mdata\u001b[0m\u001b[0;34m.\u001b[0m\u001b[0mreplace\u001b[0m\u001b[0;34m(\u001b[0m\u001b[0mnp\u001b[0m\u001b[0;34m.\u001b[0m\u001b[0mnan\u001b[0m\u001b[0;34m,\u001b[0m\u001b[0;36m0\u001b[0m\u001b[0;34m)\u001b[0m\u001b[0;34m\u001b[0m\u001b[0m\n\u001b[1;32m     11\u001b[0m \u001b[0mprint\u001b[0m\u001b[0;34m(\u001b[0m\u001b[0mdata\u001b[0m\u001b[0;34m.\u001b[0m\u001b[0mhead\u001b[0m\u001b[0;34m(\u001b[0m\u001b[0;36m5\u001b[0m\u001b[0;34m)\u001b[0m\u001b[0;34m)\u001b[0m\u001b[0;34m\u001b[0m\u001b[0m\n",
      "\u001b[0;32m//anaconda/lib/python3.6/site-packages/pandas/io/parsers.py\u001b[0m in \u001b[0;36mparser_f\u001b[0;34m(filepath_or_buffer, sep, delimiter, header, names, index_col, usecols, squeeze, prefix, mangle_dupe_cols, dtype, engine, converters, true_values, false_values, skipinitialspace, skiprows, nrows, na_values, keep_default_na, na_filter, verbose, skip_blank_lines, parse_dates, infer_datetime_format, keep_date_col, date_parser, dayfirst, iterator, chunksize, compression, thousands, decimal, lineterminator, quotechar, quoting, escapechar, comment, encoding, dialect, tupleize_cols, error_bad_lines, warn_bad_lines, skipfooter, skip_footer, doublequote, delim_whitespace, as_recarray, compact_ints, use_unsigned, low_memory, buffer_lines, memory_map, float_precision)\u001b[0m\n\u001b[1;32m    644\u001b[0m                     skip_blank_lines=skip_blank_lines)\n\u001b[1;32m    645\u001b[0m \u001b[0;34m\u001b[0m\u001b[0m\n\u001b[0;32m--> 646\u001b[0;31m         \u001b[0;32mreturn\u001b[0m \u001b[0m_read\u001b[0m\u001b[0;34m(\u001b[0m\u001b[0mfilepath_or_buffer\u001b[0m\u001b[0;34m,\u001b[0m \u001b[0mkwds\u001b[0m\u001b[0;34m)\u001b[0m\u001b[0;34m\u001b[0m\u001b[0m\n\u001b[0m\u001b[1;32m    647\u001b[0m \u001b[0;34m\u001b[0m\u001b[0m\n\u001b[1;32m    648\u001b[0m     \u001b[0mparser_f\u001b[0m\u001b[0;34m.\u001b[0m\u001b[0m__name__\u001b[0m \u001b[0;34m=\u001b[0m \u001b[0mname\u001b[0m\u001b[0;34m\u001b[0m\u001b[0m\n",
      "\u001b[0;32m//anaconda/lib/python3.6/site-packages/pandas/io/parsers.py\u001b[0m in \u001b[0;36m_read\u001b[0;34m(filepath_or_buffer, kwds)\u001b[0m\n\u001b[1;32m    399\u001b[0m         \u001b[0;32mreturn\u001b[0m \u001b[0mparser\u001b[0m\u001b[0;34m\u001b[0m\u001b[0m\n\u001b[1;32m    400\u001b[0m \u001b[0;34m\u001b[0m\u001b[0m\n\u001b[0;32m--> 401\u001b[0;31m     \u001b[0mdata\u001b[0m \u001b[0;34m=\u001b[0m \u001b[0mparser\u001b[0m\u001b[0;34m.\u001b[0m\u001b[0mread\u001b[0m\u001b[0;34m(\u001b[0m\u001b[0;34m)\u001b[0m\u001b[0;34m\u001b[0m\u001b[0m\n\u001b[0m\u001b[1;32m    402\u001b[0m     \u001b[0mparser\u001b[0m\u001b[0;34m.\u001b[0m\u001b[0mclose\u001b[0m\u001b[0;34m(\u001b[0m\u001b[0;34m)\u001b[0m\u001b[0;34m\u001b[0m\u001b[0m\n\u001b[1;32m    403\u001b[0m     \u001b[0;32mreturn\u001b[0m \u001b[0mdata\u001b[0m\u001b[0;34m\u001b[0m\u001b[0m\n",
      "\u001b[0;32m//anaconda/lib/python3.6/site-packages/pandas/io/parsers.py\u001b[0m in \u001b[0;36mread\u001b[0;34m(self, nrows)\u001b[0m\n\u001b[1;32m    937\u001b[0m                 \u001b[0;32mraise\u001b[0m \u001b[0mValueError\u001b[0m\u001b[0;34m(\u001b[0m\u001b[0;34m'skipfooter not supported for iteration'\u001b[0m\u001b[0;34m)\u001b[0m\u001b[0;34m\u001b[0m\u001b[0m\n\u001b[1;32m    938\u001b[0m \u001b[0;34m\u001b[0m\u001b[0m\n\u001b[0;32m--> 939\u001b[0;31m         \u001b[0mret\u001b[0m \u001b[0;34m=\u001b[0m \u001b[0mself\u001b[0m\u001b[0;34m.\u001b[0m\u001b[0m_engine\u001b[0m\u001b[0;34m.\u001b[0m\u001b[0mread\u001b[0m\u001b[0;34m(\u001b[0m\u001b[0mnrows\u001b[0m\u001b[0;34m)\u001b[0m\u001b[0;34m\u001b[0m\u001b[0m\n\u001b[0m\u001b[1;32m    940\u001b[0m \u001b[0;34m\u001b[0m\u001b[0m\n\u001b[1;32m    941\u001b[0m         \u001b[0;32mif\u001b[0m \u001b[0mself\u001b[0m\u001b[0;34m.\u001b[0m\u001b[0moptions\u001b[0m\u001b[0;34m.\u001b[0m\u001b[0mget\u001b[0m\u001b[0;34m(\u001b[0m\u001b[0;34m'as_recarray'\u001b[0m\u001b[0;34m)\u001b[0m\u001b[0;34m:\u001b[0m\u001b[0;34m\u001b[0m\u001b[0m\n",
      "\u001b[0;32m//anaconda/lib/python3.6/site-packages/pandas/io/parsers.py\u001b[0m in \u001b[0;36mread\u001b[0;34m(self, nrows)\u001b[0m\n\u001b[1;32m   1506\u001b[0m     \u001b[0;32mdef\u001b[0m \u001b[0mread\u001b[0m\u001b[0;34m(\u001b[0m\u001b[0mself\u001b[0m\u001b[0;34m,\u001b[0m \u001b[0mnrows\u001b[0m\u001b[0;34m=\u001b[0m\u001b[0;32mNone\u001b[0m\u001b[0;34m)\u001b[0m\u001b[0;34m:\u001b[0m\u001b[0;34m\u001b[0m\u001b[0m\n\u001b[1;32m   1507\u001b[0m         \u001b[0;32mtry\u001b[0m\u001b[0;34m:\u001b[0m\u001b[0;34m\u001b[0m\u001b[0m\n\u001b[0;32m-> 1508\u001b[0;31m             \u001b[0mdata\u001b[0m \u001b[0;34m=\u001b[0m \u001b[0mself\u001b[0m\u001b[0;34m.\u001b[0m\u001b[0m_reader\u001b[0m\u001b[0;34m.\u001b[0m\u001b[0mread\u001b[0m\u001b[0;34m(\u001b[0m\u001b[0mnrows\u001b[0m\u001b[0;34m)\u001b[0m\u001b[0;34m\u001b[0m\u001b[0m\n\u001b[0m\u001b[1;32m   1509\u001b[0m         \u001b[0;32mexcept\u001b[0m \u001b[0mStopIteration\u001b[0m\u001b[0;34m:\u001b[0m\u001b[0;34m\u001b[0m\u001b[0m\n\u001b[1;32m   1510\u001b[0m             \u001b[0;32mif\u001b[0m \u001b[0mself\u001b[0m\u001b[0;34m.\u001b[0m\u001b[0m_first_chunk\u001b[0m\u001b[0;34m:\u001b[0m\u001b[0;34m\u001b[0m\u001b[0m\n",
      "\u001b[0;32mpandas/parser.pyx\u001b[0m in \u001b[0;36mpandas.parser.TextReader.read (pandas/parser.c:10415)\u001b[0;34m()\u001b[0m\n",
      "\u001b[0;32mpandas/parser.pyx\u001b[0m in \u001b[0;36mpandas.parser.TextReader._read_low_memory (pandas/parser.c:10691)\u001b[0;34m()\u001b[0m\n",
      "\u001b[0;32mpandas/parser.pyx\u001b[0m in \u001b[0;36mpandas.parser.TextReader._read_rows (pandas/parser.c:11437)\u001b[0;34m()\u001b[0m\n",
      "\u001b[0;32mpandas/parser.pyx\u001b[0m in \u001b[0;36mpandas.parser.TextReader._tokenize_rows (pandas/parser.c:11308)\u001b[0;34m()\u001b[0m\n",
      "\u001b[0;32mpandas/parser.pyx\u001b[0m in \u001b[0;36mpandas.parser.raise_parser_error (pandas/parser.c:27037)\u001b[0;34m()\u001b[0m\n",
      "\u001b[0;31mCParserError\u001b[0m: Error tokenizing data. C error: Expected 1 fields in line 4, saw 2\n"
     ]
    }
   ],
   "source": [
    "import numpy as np\n",
    "import pandas as pd\n",
    "from sklearn.feature_extraction.text import CountVectorizer\n",
    "from sklearn.feature_extraction.text import TfidfTransformer\n",
    "from sklearn.naive_bayes import MultinomialNB\n",
    "from sklearn import metrics\n",
    "from sklearn.model_selection import cross_val_score\n",
    "\n",
    "data =  pd.read_csv('ParsedOutput_odf.ods')\n",
    "data.replace(np.nan,0)\n",
    "print(data.head(5))"
   ]
  },
  {
   "cell_type": "code",
   "execution_count": 126,
   "metadata": {
    "collapsed": false
   },
   "outputs": [
    {
     "name": "stdout",
     "output_type": "stream",
     "text": [
      "(3618, 2528)\n",
      "(3618, 2528)\n",
      "(3618,)\n"
     ]
    }
   ],
   "source": [
    "# Text to vectors\n",
    "vectorizer = CountVectorizer()\n",
    "X_vectors = vectorizer.fit_transform(data.Text)\n",
    "print(X_vectors.shape)\n",
    "\n",
    "# vectors to tfidf scores\n",
    "tfidf_transformer = TfidfTransformer()\n",
    "X = tfidf_transformer.fit_transform(X_vectors)\n",
    "print(X.shape)\n",
    "\n",
    "# Labels\n",
    "y =  data.Label\n",
    "print(y.shape)"
   ]
  },
  {
   "cell_type": "code",
   "execution_count": 159,
   "metadata": {
    "collapsed": false
   },
   "outputs": [
    {
     "name": "stdout",
     "output_type": "stream",
     "text": [
      "             precision    recall  f1-score   support\n",
      "\n",
      "        0.0       0.00      0.00      0.00         7\n",
      "        1.0       0.82      1.00      0.90        33\n",
      "\n",
      "avg / total       0.68      0.82      0.75        40\n",
      "\n",
      "[[ 0  7]\n",
      " [ 0 33]]\n",
      "[array([ 0.78571429,  0.84615385,  0.84615385])] [array([ 0.78571429,  0.84615385,  0.84615385])]\n"
     ]
    },
    {
     "name": "stderr",
     "output_type": "stream",
     "text": [
      "/u/l/o/lokhande/.local/lib/python3.4/site-packages/sklearn/metrics/classification.py:1113: UndefinedMetricWarning: Precision and F-score are ill-defined and being set to 0.0 in labels with no predicted samples.\n",
      "  'precision', 'predicted', average, warn_for)\n"
     ]
    }
   ],
   "source": [
    "# Train test split \n",
    "X = X[0:40,:]\n",
    "y = y[0:40]\n",
    "\n",
    "# Training accuracy\n",
    "clf1 = MultinomialNB()\n",
    "clf1_trained = clf1.fit(X, y)\n",
    "y_pred = clf1_trained.predict(X)\n",
    "print(metrics.classification_report(y, y_pred))\n",
    "print(metrics.confusion_matrix(y, y_pred))\n",
    "\n",
    "\n",
    "\n",
    "scores = list()\n",
    "scores_std = list()\n",
    "\n",
    "n_folds = 3\n",
    "\n",
    "this_scores = cross_val_score(clf1, X, y, cv=n_folds, n_jobs=1)\n",
    "scores.append(this_scores)\n",
    "scores_std.append(this_scores)\n",
    "\n",
    "#scores, scores_std = np.mean(scores), np.mean(scores_std)\n",
    "print(scores,scores_std)\n",
    "\n",
    "\n",
    "#print(X[0:10,:])   \n",
    "# print(y[0:10])\n",
    "# print(type(y))\n",
    "# Cross validation"
   ]
  },
  {
   "cell_type": "code",
   "execution_count": 115,
   "metadata": {
    "collapsed": false
   },
   "outputs": [
    {
     "name": "stdout",
     "output_type": "stream",
     "text": [
      "['font', 'face', 'monospace', 'n7', 'hot', 'next', 'thing', 'it', 'cool', 'by', 'almost', 'all', 'font']\n",
      "846\n"
     ]
    }
   ],
   "source": [
    "vectorizer = CountVectorizer()\n",
    "text_counts = vectorizer.fit_transform(data.Text)\n",
    "analyze = vectorizer.build_analyzer()\n",
    "print(analyze(\"<font face= \"\"Monospace\"\" >{\\an7}HOT NEXT THING.>> IT’S COOL BY ALMOST ALL</font>\") )\n",
    "# print(sum(p==3))\n",
    "# print(text_counts.shape)\n",
    "# print(text_counts)\n",
    "# print(data.Text)\n",
    "print(vectorizer.vocabulary_.get('font'))"
   ]
  },
  {
   "cell_type": "code",
   "execution_count": 116,
   "metadata": {
    "collapsed": false
   },
   "outputs": [
    {
     "name": "stdout",
     "output_type": "stream",
     "text": [
      "2\n"
     ]
    }
   ],
   "source": [
    "x = vectorizer.get_feature_names()\n",
    "#print(type(x),x)\n",
    "f = vectorizer.transform(['<font face=\"Monospace\">{\\an7}HOT NEXT THING.\\n>> IT’S COOL BY ALMOST ALL</font>\\n']).toarray()\n",
    "print(f[0][846])"
   ]
  },
  {
   "cell_type": "code",
   "execution_count": 43,
   "metadata": {
    "collapsed": false
   },
   "outputs": [
    {
     "name": "stdout",
     "output_type": "stream",
     "text": [
      "0       <font face=\"Monospace\">{\\an7}>> THIS IS NOT SO...\n",
      "1       <font face=\"Monospace\">{\\an7}>> THIS IS NOT SO...\n",
      "2       <font face=\"Monospace\">{\\an7}PEOPLE WAIT, 36 H...\n",
      "3       <font face=\"Monospace\">{\\an7}HOT NEXT THING.\\n...\n",
      "4       <font face=\"Monospace\">{\\an7}>> IT’S COOL BY A...\n",
      "5       <font face=\"Monospace\">{\\an7}ACCOUNTS, AND THE...\n",
      "6       <font face=\"Monospace\">{\\an7}HIGH.\\nLET’S GO T...\n",
      "7       <font face=\"Monospace\">{\\an7}LET’S GO TO ANTWA...\n",
      "8       <font face=\"Monospace\">{\\an7}THESE ARE AVAILAB...\n",
      "9       <font face=\"Monospace\">{\\an7}AND PEOPLE ARE ST...\n",
      "10      <font face=\"Monospace\">{\\an7}>> OH, YEAH, TAKE...\n",
      "11      <font face=\"Monospace\">{\\an7}LINE, SHOWING THE...\n",
      "12      <font face=\"Monospace\">{\\an7}PEOPLE WHO WERE O...\n",
      "13      <font face=\"Monospace\">{\\an7}THE ANYONE NINTEN...\n",
      "14      <font face=\"Monospace\">{\\an7}IN A HALF-HOUR, S...\n",
      "15      <font face=\"Monospace\">{\\an7}FOR THEIR HANDS T...\n",
      "16      <font face=\"Monospace\">{\\an7}MIDNIGHT.</font>\\n\\n\n",
      "17      <font face=\"Monospace\">{\\an7}AS TERESA PRIOLO ...\n",
      "18      <font face=\"Monospace\">{\\an7}AS TERESA PRIOLO ...\n",
      "19      <font face=\"Monospace\">{\\an7}SOME PEOPLE HAVE ...\n",
      "20      <font face=\"Monospace\">{\\an7}FOR DAYS.\\n>> TO ...\n",
      "21      <font face=\"Monospace\">{\\an7}>> TO TELL YOU MO...\n",
      "22      <font face=\"Monospace\">{\\an7}DEVICE, THE SWITC...\n",
      "23      <font face=\"Monospace\">{\\an7}PLAY AT HOME, ON ...\n",
      "24      <font face=\"Monospace\">{\\an7}IT ALSO PROMISES ...\n",
      "25      <font face=\"Monospace\">{\\an7}FACE-TO-FACE INTE...\n",
      "26      <font face=\"Monospace\">{\\an7}GAMERS, BUT THIS ...\n",
      "27      <font face=\"Monospace\">{\\an7}TO LET THEM INTER...\n",
      "28      <font face=\"Monospace\">{\\an7}FACE-TO-FACE, BEC...\n",
      "29      <font face=\"Monospace\">{\\an7}OF THE GAMES, YOU...\n",
      "                              ...                        \n",
      "3588    <font face=\"Monospace\">{\\an7}SLACKING.\\nTHERE’...\n",
      "3589    <font face=\"Monospace\">{\\an7}LADY DOCTOR DIED....\n",
      "3590    <font face=\"Monospace\">{\\an7}\\hLADY DOCTOR DIE...\n",
      "3591    <font face=\"Monospace\">{\\an7}THAT WAS A SECRET...\n",
      "3592    <font face=\"Monospace\">{\\an7}>> TAKE HER TO MY...\n",
      "3593    <font face=\"Monospace\">{\\an7}HE IS SO HOT.\\nTH...\n",
      "3594    <font face=\"Monospace\">{\\an7}THERE’S NOTHING L...\n",
      "3595    <font face=\"Monospace\">{\\an7}MECHANIC WORKING ...\n",
      "3596    <font face=\"Monospace\">{\\an7}>> WE’LL BE RIGHT...\n",
      "3597    <font face=\"Monospace\">{\\an7}MELISSA PETERMAN ...\n",
      "3598    <font face=\"Monospace\">{\\an7}>>> ARE YOU MARRI...\n",
      "3599    <font face=\"Monospace\">{\\an7}>>> ARE YOU MARRI...\n",
      "3600    <font face=\"Monospace\">{\\an7}GRANDPA OR IS THA...\n",
      "3601    <font face=\"Monospace\">{\\an7}WHAT SIZE SHOES D...\n",
      "3602    <font face=\"Monospace\">{\\an7}HOW MANY MONEY TO...\n",
      "3603    <font face=\"Monospace\">{\\an7}<i>Packed with fl...\n",
      "3604    <font face=\"Monospace\">{\\an7}<i>one hero was o...\n",
      "3605    <font face=\"Monospace\">{\\an7}\\h\\h<i>\\hWatch Ba...\n",
      "3606    <font face=\"Monospace\">{\\an7}You want a piece ...\n",
      "3607    <font face=\"Monospace\">{\\an7}<i>\\hCreamy, deli...\n",
      "3608    <font face=\"Monospace\">{\\an7}\\h\\h\\h\\h<i>\\hMini...\n",
      "3609    <font face=\"Monospace\">{\\an7}<i>Fios is not ca...\n",
      "3610    <font face=\"Monospace\">{\\an7}<i>Maybe that‘s w...\n",
      "3611    <font face=\"Monospace\">{\\an7}<i>by JD Power 4 ...\n",
      "3612    <font face=\"Monospace\">{\\an7}<i>And now you ca...\n",
      "3613    <font face=\"Monospace\">{\\an7}<i>Get our best o...\n",
      "3614    <font face=\"Monospace\">{\\an7}<i>150 meg intern...\n",
      "3615    <font face=\"Monospace\">{\\an7}<i>All for $79.99...\n",
      "3616    <font face=\"Monospace\">{\\an7}<i>Plus get HBO f...\n",
      "3617    <font face=\"Monospace\">{\\an7}<i>Go to getfios....\n",
      "Name: Text, dtype: object\n"
     ]
    }
   ],
   "source": [
    "print(data.Text)"
   ]
  }
 ],
 "metadata": {
  "kernelspec": {
   "display_name": "Python 3",
   "language": "python",
   "name": "python3"
  },
  "language_info": {
   "codemirror_mode": {
    "name": "ipython",
    "version": 3
   },
   "file_extension": ".py",
   "mimetype": "text/x-python",
   "name": "python",
   "nbconvert_exporter": "python",
   "pygments_lexer": "ipython3",
   "version": "3.6.0"
  }
 },
 "nbformat": 4,
 "nbformat_minor": 1
}
